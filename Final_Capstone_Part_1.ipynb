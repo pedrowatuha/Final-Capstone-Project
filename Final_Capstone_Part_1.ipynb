{
 "cells": [
  {
   "cell_type": "markdown",
   "metadata": {},
   "source": [
    "# Final Capstone for IBM Course"
   ]
  },
  {
   "cell_type": "code",
   "execution_count": 28,
   "metadata": {},
   "outputs": [
    {
     "name": "stdout",
     "output_type": "stream",
     "text": [
      "Folium installed\n",
      "Libraries imported.\n"
     ]
    }
   ],
   "source": [
    "import requests # library to handle requests\n",
    "import pandas as pd # library for data analsysis\n",
    "import numpy as np # library to handle data in a vectorized manner\n",
    "import random # library for random number generation\n",
    "from geopy.geocoders import Nominatim # module to convert an address into latitude and longitude values\n",
    "from bs4 import BeautifulSoup\n",
    "import re\n",
    "\n",
    "# libraries for displaying images\n",
    "from IPython.display import Image \n",
    "from IPython.core.display import HTML \n",
    "    \n",
    "# tranforming json file into a pandas dataframe library\n",
    "from pandas.io.json import json_normalize\n",
    "\n",
    "import folium # plotting library\n",
    "\n",
    "print('Folium installed')\n",
    "print('Libraries imported.')"
   ]
  },
  {
   "cell_type": "markdown",
   "metadata": {},
   "source": [
    "## Transforming the Wikipedia page into a Beautiful Soup"
   ]
  },
  {
   "cell_type": "code",
   "execution_count": 111,
   "metadata": {},
   "outputs": [],
   "source": [
    "url = 'https://en.wikipedia.org/wiki/List_of_postal_codes_of_Canada:_M'\n",
    "r = requests.get(url)\n",
    "soup = BeautifulSoup(r.content)"
   ]
  },
  {
   "cell_type": "code",
   "execution_count": 109,
   "metadata": {},
   "outputs": [],
   "source": [
    "#Created a sub soup where everything started with tr\n",
    "title = soup.find_all('tr')\n",
    "#Initialize the iterations\n",
    "i=0\n",
    "dict ={}\n",
    "list1 =[]\n",
    "list2 =[]\n",
    "list3 =[]\n",
    "for element in title:\n",
    "    #Iterate through the sub soup\n",
    "    i = i+1\n",
    "    #Created lists with only the post code, the borough and the neighborhood\n",
    "    n =element.get_text().split('\\n')\n",
    "    n = [string for string in n if string != \"\"]\n",
    "    #Defined a dictionary with the respective header\n",
    "    if i==1:\n",
    "        dict[n[0]] = list1\n",
    "        dict[n[1]] = list2\n",
    "        dict[n[2]] = list3\n",
    "    #Excluded non assigned terms\n",
    "    elif 'Not assigned' not in n:\n",
    "        list1.append(n[0])\n",
    "        list2.append(n[1])\n",
    "        list3.append(n[2])\n",
    "    #Ended in the last needed term\n",
    "    if i ==181:\n",
    "        break"
   ]
  },
  {
   "cell_type": "code",
   "execution_count": 110,
   "metadata": {},
   "outputs": [
    {
     "data": {
      "text/plain": [
       "(103, 3)"
      ]
     },
     "execution_count": 110,
     "metadata": {},
     "output_type": "execute_result"
    }
   ],
   "source": [
    "#Created a Pandas DataFrame with the dictionary\n",
    "df = pd.DataFrame.from_dict(dict)\n",
    "pd.set_option('display.max_rows', 1000)\n",
    "df.shape"
   ]
  },
  {
   "cell_type": "code",
   "execution_count": null,
   "metadata": {},
   "outputs": [],
   "source": []
  }
 ],
 "metadata": {
  "kernelspec": {
   "display_name": "Python 3",
   "language": "python",
   "name": "python3"
  },
  "language_info": {
   "codemirror_mode": {
    "name": "ipython",
    "version": 3
   },
   "file_extension": ".py",
   "mimetype": "text/x-python",
   "name": "python",
   "nbconvert_exporter": "python",
   "pygments_lexer": "ipython3",
   "version": "3.7.6"
  }
 },
 "nbformat": 4,
 "nbformat_minor": 4
}
